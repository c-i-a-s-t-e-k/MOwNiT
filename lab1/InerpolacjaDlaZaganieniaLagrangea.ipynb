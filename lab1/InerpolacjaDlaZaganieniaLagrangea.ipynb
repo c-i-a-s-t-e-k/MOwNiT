{
 "cells": [
  {
   "attachments": {},
   "cell_type": "markdown",
   "metadata": {},
   "source": [
    "# Interpolacja Dla zagadnienia Lagrange'a"
   ]
  },
  {
   "attachments": {},
   "cell_type": "markdown",
   "metadata": {},
   "source": [
    "## Generowanie wielomianów interpolacyjch oraz węzłów"
   ]
  },
  {
   "attachments": {},
   "cell_type": "markdown",
   "metadata": {},
   "source": [
    "### Metoda Lagrande'a"
   ]
  },
  {
   "cell_type": "code",
   "execution_count": 1,
   "metadata": {},
   "outputs": [
    {
     "name": "stdout",
     "output_type": "stream",
     "text": [
      "f1(1)=1.0, f1(1.5)=2.5, f1(2)=4.0\n"
     ]
    }
   ],
   "source": [
    "function CreateInterpolationLagrangePolynominal(X, Y)\n",
    "    n = length(X)\n",
    "    d = []\n",
    "    for k in 1:n\n",
    "        dₖ = 1\n",
    "        for i in 1:n\n",
    "            if i != k\n",
    "                dₖ *= (X[k]- X[i])\n",
    "            end\n",
    "        end\n",
    "        push!(d, dₖ)\n",
    "    end\n",
    "    x1 = 1\n",
    "    return (x) -> sum(map((k)->Y[k]*prod([X[k] != xᵢ ? x - xᵢ : 1 for xᵢ in X])/d[k], 1:n))\n",
    "end\n",
    "\n",
    "f1 = CreateInterpolationLagrangePolynominal([1,2], [1,4])\n",
    "println(\"f1(1)=$(f1(1)), f1(1.5)=$(f1(1.5)), f1(2)=$(f1(2))\")"
   ]
  },
  {
   "attachments": {},
   "cell_type": "markdown",
   "metadata": {},
   "source": [
    "### Meoda Newtona"
   ]
  },
  {
   "cell_type": "code",
   "execution_count": 2,
   "metadata": {},
   "outputs": [
    {
     "name": "stdout",
     "output_type": "stream",
     "text": [
      "f2(1)=1.0, f2(1.5)=2.25, f2(2)=4.0\n"
     ]
    }
   ],
   "source": [
    "\n",
    "function CreateInterpolationNewtonPolynominal(X, Y)\n",
    "    n = length(X)\n",
    "    differenceQuotients = zeros(n, n)\n",
    "    for i in 1:n\n",
    "        differenceQuotients[1,i] = Y[i]\n",
    "    end\n",
    "    for i in 2:n\n",
    "        for j in i:n\n",
    "            differenceQuotients[i, j] = (differenceQuotients[i-1,j] - differenceQuotients[i-1,j-1]) / (X[j] - X[j-i+1])\n",
    "        end\n",
    "    end\n",
    "    return (x) -> \n",
    "    begin\n",
    "        res = differenceQuotients[1,1]\n",
    "        product = (x - X[1])\n",
    "        for i in 2:n\n",
    "            res += product*differenceQuotients[i,i]\n",
    "            product *= (x - X[i])\n",
    "        end\n",
    "        return res\n",
    "    end\n",
    "end\n",
    "\n",
    "f2 = CreateInterpolationNewtonPolynominal([1,2,3], [1, 4, 9])\n",
    "println(\"f2(1)=$(f2(1)), f2(1.5)=$(f2(1.5)), f2(2)=$(f2(2))\")"
   ]
  },
  {
   "attachments": {},
   "cell_type": "markdown",
   "metadata": {},
   "source": [
    "### Generacja węzłów oraz wielomianu interpolacji"
   ]
  },
  {
   "cell_type": "code",
   "execution_count": 3,
   "metadata": {},
   "outputs": [
    {
     "data": {
      "text/plain": [
       "getCzebyszewZerosAndInterpolationPolynominal (generic function with 2 methods)"
      ]
     },
     "metadata": {},
     "output_type": "display_data"
    }
   ],
   "source": [
    "function getEvenSpacesAndInterpolationPolynominal(A, B, func, n, createFunc=CreateInterpolationNewtonPolynominal)\n",
    "    X = range(A, stop=B, length=n)\n",
    "    return X, createFunc(X, map(func, X))\n",
    "end\n",
    "\n",
    "function getCzebyszewZerosAndInterpolationPolynominal(A, B, func, n, createFunc=CreateInterpolationNewtonPolynominal)\n",
    "    X = map((k)-> (B-A)/2*cos(((2*k-1)/2n*pi)) + (A + B)/2, 1:n)\n",
    "    return X, createFunc(X, map(func, X))\n",
    "end"
   ]
  },
  {
   "attachments": {},
   "cell_type": "markdown",
   "metadata": {},
   "source": [
    "## Rysowanie wykresów"
   ]
  },
  {
   "cell_type": "code",
   "execution_count": 4,
   "metadata": {},
   "outputs": [
    {
     "data": {
      "text/plain": [
       "addInterpolationToPlot (generic function with 5 methods)"
      ]
     },
     "metadata": {},
     "output_type": "display_data"
    }
   ],
   "source": [
    "using Plots\n",
    "\n",
    "function drawInterpolation(X, func, interpolationFunc, title=\"\" , accuracy=10e-4)\n",
    "    minVal, maxVal = extrema(X)\n",
    "    len = maxVal - minVal\n",
    "    x = minVal:(len)*accuracy:maxVal\n",
    "    plot(x, func, label=\"f(x)\", width=1.5)\n",
    "    plot!(x, interpolationFunc, label=\"interpolacja\")\n",
    "    plot!(X, map(func, X), seriestype=:scatter, label=\"węzły\")\n",
    "    title!(title)\n",
    "end\n",
    "\n",
    "function drawInterpolationN(func, nodesNumers, A, B; getNodesFunc = getCzebyszewZerosAndInterpolationPolynominal,\n",
    "     creationFunc = CreateInterpolationNewtonPolynominal,title=\"\" , accuracy=10e-4)\n",
    "    len =  B - A\n",
    "    x = A:(len)*accuracy:B\n",
    "    plot(x, func, label=\"f(x)\", width=1.5)\n",
    "    for n in nodesNumers\n",
    "        X, interpolationFunc = getNodesFunc(A, B, func, n, creationFunc)\n",
    "        plot!(x, interpolationFunc, label=\"interpolacja n=$n\")\n",
    "        plot!(X, map(func, X), seriestype=:scatter, label=\"węzły  n=$n\")\n",
    "    end\n",
    "    title!(title)\n",
    "end\n",
    "\n",
    "function addInterpolationToPlot(func, n, A, B, labelInterpolation=\"interpolacja n=$n\",labelNodes=\"węzły n=$n\", getNodesFunc = getCzebyszewZerosAndInterpolationPolynominal, creationFunc = CreateInterpolationNewtonPolynominal)\n",
    "    X, interpolationFunc = getNodesFunc(A, B, func, n, creationFunc)\n",
    "    plot!(x, interpolationFunc, label=labelInterpolation)\n",
    "    plot!(X, map(func, X), seriestype=:scatter, label=labelNodes)\n",
    "end"
   ]
  },
  {
   "attachments": {},
   "cell_type": "markdown",
   "metadata": {},
   "source": [
    "### Przykłady wywołania"
   ]
  },
  {
   "cell_type": "code",
   "execution_count": 23,
   "metadata": {},
   "outputs": [
    {
     "data": {
      "text/plain": [
       "\"/home/ciastek/Dokumenty/studia/MoWNiT/MOwNiT/lab1/plots/Lagr100.png\""
      ]
     },
     "metadata": {},
     "output_type": "display_data"
    }
   ],
   "source": [
    "k = 4\n",
    "m = 1\n",
    "A = -4*pi\n",
    "B = 3*pi\n",
    "f = (x) -> exp(-k*sin(m*x)) + k*sin(m*x) - 1\n",
    "X, intF = getCzebyszewZerosAndInterpolationPolynominal(A,B, f, 100, CreateInterpolationLagrangePolynominal) \n",
    "# X, intF = getEvenSpacesAndInterpolationPolynominal(A,B, f, 20, CreateInterpolationLagrangePolynominal)  \n",
    "\n",
    "drawInterpolation(X, f, intF, \"Metoda Lagrangea\")\n",
    "savefig(\"plots/Lagr100\")"
   ]
  },
  {
   "cell_type": "code",
   "execution_count": 22,
   "metadata": {},
   "outputs": [
    {
     "data": {
      "text/plain": [
       "\"/home/ciastek/Dokumenty/studia/MoWNiT/MOwNiT/lab1/plots/NevtCmp60.png\""
      ]
     },
     "metadata": {},
     "output_type": "display_data"
    }
   ],
   "source": [
    "k = 4\n",
    "m = 1\n",
    "A = -4*pi\n",
    "B = 3*pi\n",
    "f = (x) -> exp(-k*sin(m*x)) + k*sin(m*x) - 1\n",
    "X, intF = getCzebyszewZerosAndInterpolationPolynominal(A,B, f, 60) \n",
    "\n",
    "drawInterpolation(X, f, intF, \"Metoda Nevtona\")\n",
    "savefig(\"plots/NevtCmp60\")"
   ]
  },
  {
   "cell_type": "code",
   "execution_count": null,
   "metadata": {},
   "outputs": [],
   "source": []
  },
  {
   "attachments": {},
   "cell_type": "markdown",
   "metadata": {},
   "source": [
    "## Funkcja przyzielona na zajciach"
   ]
  },
  {
   "cell_type": "code",
   "execution_count": null,
   "metadata": {},
   "outputs": [],
   "source": [
    "k = 4\n",
    "m = 1\n",
    "A = -4*pi\n",
    "B = 3*pi\n",
    "my_func = (x) -> exp(-k*sin(m*x)) + k*sin(m*x) - 1\n",
    "xs = -4*pi:0.01:3*pi\n",
    "\n",
    "plot(xs, my_func)"
   ]
  },
  {
   "attachments": {},
   "cell_type": "markdown",
   "metadata": {},
   "source": [
    "Sredni błąd + maksymalny \n",
    "błąd\n",
    "\n",
    "tabele błędów\n"
   ]
  },
  {
   "attachments": {},
   "cell_type": "markdown",
   "metadata": {},
   "source": [
    "### Wykresy"
   ]
  },
  {
   "cell_type": "code",
   "execution_count": null,
   "metadata": {},
   "outputs": [],
   "source": [
    "drawInterpolationN(my_func, [3, 4], A, B; title=\"Zera Czebyszewa\")"
   ]
  },
  {
   "cell_type": "code",
   "execution_count": null,
   "metadata": {},
   "outputs": [],
   "source": [
    "drawInterpolationN(my_func, [3, 4], A, B; getNodesFunc = getEvenSpacesAndInterpolationPolynominal, title=\"Równe odstępy\")"
   ]
  },
  {
   "cell_type": "code",
   "execution_count": null,
   "metadata": {},
   "outputs": [],
   "source": [
    "drawInterpolationN(my_func, [5, 6, 7], A, B; title=\"Zera Czebyszewa\")"
   ]
  },
  {
   "cell_type": "code",
   "execution_count": null,
   "metadata": {},
   "outputs": [],
   "source": [
    "drawInterpolationN(my_func, [5, 6, 7], A, B; getNodesFunc = getEvenSpacesAndInterpolationPolynominal, title=\"Równe odstępy\")"
   ]
  },
  {
   "cell_type": "code",
   "execution_count": null,
   "metadata": {},
   "outputs": [],
   "source": [
    "drawInterpolationN(my_func, [10, 15, 20], A, B, title=:\"Zera Czebyszewa\")"
   ]
  },
  {
   "cell_type": "code",
   "execution_count": null,
   "metadata": {},
   "outputs": [],
   "source": [
    "drawInterpolationN(my_func, [10, 15, 20], A, B; getNodesFunc = getEvenSpacesAndInterpolationPolynominal, title=\"Równe odstępy\")\n",
    "ylims!((-20, 100))"
   ]
  },
  {
   "attachments": {},
   "cell_type": "markdown",
   "metadata": {},
   "source": [
    "### Obliczanie okładności"
   ]
  },
  {
   "cell_type": "markdown",
   "metadata": {},
   "source": [
    "### Obliczanie dokładności"
   ]
  },
  {
   "cell_type": "code",
   "execution_count": null,
   "metadata": {},
   "outputs": [],
   "source": [
    "function maximalAmplitude(f1, f2, A, B, accurancy = 10e-5)\n",
    "    X = A:(B-A)*accurancy:B\n",
    "    return maximum(map((x)->abs(f1(x) - f2(x)), X))\n",
    "end\n",
    "\n",
    "function RMSamplitude(f1, f2, A, B, accurancy = 10e-5)\n",
    "    X = A:(B-A)*accurancy:B\n",
    "    return sqrt(sum((x)->(f1(x)- f2(x))^2,X) / length(X))\n",
    "end\n",
    "\n",
    "n = [3,4,5,6,7,8,9,10,11,12,15,20,30,40,45,50]"
   ]
  },
  {
   "cell_type": "markdown",
   "metadata": {},
   "source": [
    "#### Równe odstępy"
   ]
  },
  {
   "cell_type": "code",
   "execution_count": null,
   "metadata": {},
   "outputs": [],
   "source": [
    "interpolationsEvenSpaces = [getEvenSpacesAndInterpolationPolynominal(A, B, my_func, i, CreateInterpolationNewtonPolynominal)[2] for i in n]\n",
    "maxAes = [maximalAmplitude(my_func, interpolationsEvenSpaces[i], A, B) for i in 1:length(n)]\n",
    "rmsAes = [RMSamplitude(my_func, interpolationsEvenSpaces[i], A, B) for i in 1:length(n)]\n",
    "\n",
    "\n",
    "println(\"n:$n\")\n",
    "println(\"max:\", round.(maxAes; digits=4))\n",
    "println(\"max:\", round.(rmsAes; digits=4))\n"
   ]
  },
  {
   "cell_type": "markdown",
   "metadata": {},
   "source": [
    "#### Zera Czebyszewa"
   ]
  },
  {
   "cell_type": "code",
   "execution_count": null,
   "metadata": {},
   "outputs": [],
   "source": [
    "interpolationsEvenSpaces = [getCzebyszewZerosAndInterpolationPolynominal(A, B, my_func, i, CreateInterpolationNewtonPolynominal)[2] for i in n]\n",
    "maxAcz = [maximalAmplitude(my_func, interpolationsEvenSpaces[i], A, B) for i in 1:length(n)]\n",
    "rmsAcz = [RMSamplitude(my_func, interpolationsEvenSpaces[i], A, B) for i in 1:length(n)]\n",
    "\n",
    "\n",
    "println(\"n:$n\")\n",
    "println(\"max:\", round.(maxAcz; digits=4))\n",
    "println(\"max:\", round.(rmsAcz; digits=4))"
   ]
  },
  {
   "cell_type": "code",
   "execution_count": null,
   "metadata": {},
   "outputs": [],
   "source": [
    "function maximalAmplitude(f1, f2, A, B, accurancy = 10e-5)\n",
    "    X = A:(B-A)*accurancy:B\n",
    "    return maximum(map((x)->abs(f1(x) - f2(x)), X))\n",
    "end\n",
    "\n",
    "function RMSamplitude(f1, f2, A, B, accurancy = 10e-5)\n",
    "    X = A:(B-A)*accurancy:B\n",
    "    return sqrt(sum((x)->(f1(x)- f2(x))^2,X) / length(X))\n",
    "end\n",
    "\n",
    "n = [3,4,5,6,7,8,9,10,11,12,15,20,30,40,45,50]\n",
    "nothing"
   ]
  },
  {
   "attachments": {},
   "cell_type": "markdown",
   "metadata": {},
   "source": [
    "#### Równe odstępy"
   ]
  },
  {
   "cell_type": "code",
   "execution_count": null,
   "metadata": {},
   "outputs": [],
   "source": [
    "interpolationsEvenSpaces = [getEvenSpacesAndInterpolationPolynominal(A, B, my_func, i, CreateInterpolationLagrangePolynominal)[2] for i in n]\n",
    "maxAes = [maximalAmplitude(my_func, interpolationsEvenSpaces[i], A, B) for i in 1:length(n)]\n",
    "rmsAes = [RMSamplitude(my_func, interpolationsEvenSpaces[i], A, B) for i in 1:length(n)]\n",
    "\n",
    "\n",
    "println(\"n:$n\")\n",
    "println(\"max:\", round.(maxAes; digits=4))\n",
    "println(\"max:\", round.(rmsAes; digits=4))\n"
   ]
  },
  {
   "attachments": {},
   "cell_type": "markdown",
   "metadata": {},
   "source": [
    "Zera Czebyszewa"
   ]
  },
  {
   "cell_type": "code",
   "execution_count": null,
   "metadata": {},
   "outputs": [],
   "source": [
    "interpolationsEvenSpaces = [getCzebyszewZerosAndInterpolationPolynominal(A, B, my_func, i, CreateInterpolationLagrangePolynominal)[2] for i in n]\n",
    "maxAcz = [maximalAmplitude(my_func, interpolationsEvenSpaces[i], A, B) for i in 1:length(n)]\n",
    "rmsAcz = [RMSamplitude(my_func, interpolationsEvenSpaces[i], A, B) for i in 1:length(n)]\n",
    "\n",
    "\n",
    "println(\"n:$n\")\n",
    "println(\"max:\", round.(maxAcz; digits=4))\n",
    "println(\"max:\", round.(rmsAcz; digits=4))"
   ]
  },
  {
   "cell_type": "code",
   "execution_count": null,
   "metadata": {},
   "outputs": [],
   "source": [
    "plot(n, [maxAcz maxAes]; seriestype=:scatter, label=[\"Zera Czebyszewa\" \"Równe odstępy\"])\n",
    "title!(\"Maksymalana Amplituda funkcji\")\n",
    "xlabel!(\"n\")"
   ]
  },
  {
   "cell_type": "code",
   "execution_count": null,
   "metadata": {},
   "outputs": [],
   "source": [
    "plot(n, [rmsAcz rmsAes]; seriestype=:scatter, label=[\"Zera Czebyszewa\" \"Równe odstępy\"])\n",
    "title!(\"Średnia kwadratowa amplitud funkcji\")\n",
    "xlabel!(\"n\")"
   ]
  },
  {
   "cell_type": "code",
   "execution_count": null,
   "metadata": {},
   "outputs": [],
   "source": [
    "using PrettyTables\n",
    "pretty_table([n rmsAcz rmsAes]; backend = Val(:html), header=[\"n\", \"zera Czebyszewa\", \"Równe odstępy\"], formatters = ft_printf(\"%10.2f\", [2,3]))"
   ]
  },
  {
   "cell_type": "code",
   "execution_count": null,
   "metadata": {},
   "outputs": [],
   "source": [
    "pretty_table([n maxAcz maxAes]; backend = Val(:html), header=[\"n\", \"zera Czebyszewa\", \"Równe odstępy\"], formatters = ft_printf(\"%10.2f\", [2,3]))"
   ]
  },
  {
   "attachments": {},
   "cell_type": "markdown",
   "metadata": {},
   "source": [
    "## Badanie funkcji kreujących"
   ]
  },
  {
   "cell_type": "code",
   "execution_count": null,
   "metadata": {},
   "outputs": [],
   "source": [
    "function creationFunctionMaksymalN(func, creationFunc, nodesFunc)\n",
    "    n = 3\n",
    "    flag=true\n",
    "    while flag\n",
    "        n += 1\n",
    "        X, interpolationFunction = nodesFunc(A, B, func, n, creationFunc)\n",
    "        for x in X\n",
    "            if !(func(x) ≈ interpolationFunction(x))\n",
    "                println(\"f(x)=$(func(x)), w(x)=$(interpolationFunction(x))\")\n",
    "                flag = false\n",
    "                break\n",
    "            end\n",
    "        end\n",
    "        if n == 1000\n",
    "            println(\"more than 1000\")\n",
    "            return nothing\n",
    "        end\n",
    "    end\n",
    "    println(\"found problem at n=$n\")\n",
    "    return n-1\n",
    "end"
   ]
  },
  {
   "attachments": {},
   "cell_type": "markdown",
   "metadata": {},
   "source": [
    "#### metoda Lagrange'a"
   ]
  },
  {
   "cell_type": "code",
   "execution_count": 26,
   "metadata": {},
   "outputs": [],
   "source": [
    "\n",
    "println(\"Even Spaces:\")\n",
    "n1 = creationFunctionMaksymalN(my_func, CreateInterpolationLagrangePolynominal, getEvenSpacesAndInterpolationPolynominal)\n",
    "println(\"Czebyszew Zeros\")\n",
    "n2 = creationFunctionMaksymalN(my_func, CreateInterpolationLagrangePolynominal, getCzebyszewZerosAndInterpolationPolynominal)\n",
    "# n = 359 countd after 6m 12s, czebyszew zeros\n",
    "# n = 332 counted after 4m 25s, even spaces"
   ]
  },
  {
   "attachments": {},
   "cell_type": "markdown",
   "metadata": {},
   "source": [
    "#### metoda Newtona"
   ]
  },
  {
   "cell_type": "code",
   "execution_count": null,
   "metadata": {},
   "outputs": [],
   "source": [
    "println(\"Even Spaces:\")\n",
    "n1 = creationFunctionMaksymalN(my_func, CreateInterpolationNewtonPolynominal, getEvenSpacesAndInterpolationPolynominal)\n",
    "println(\"Czebyszew Zeros\")\n",
    "n2 = creationFunctionMaksymalN(my_func, CreateInterpolationNewtonPolynominal, getCzebyszewZerosAndInterpolationPolynominal)"
   ]
  }
 ],
 "metadata": {
  "kernelspec": {
   "display_name": "Julia 1.8.5",
   "language": "julia",
   "name": "julia-1.8"
  },
  "language_info": {
   "file_extension": ".jl",
   "mimetype": "application/julia",
   "name": "julia",
   "version": "1.8.5"
  },
  "orig_nbformat": 4
 },
 "nbformat": 4,
 "nbformat_minor": 2
}
