{
 "cells": [
  {
   "cell_type": "code",
   "execution_count": 9,
   "metadata": {},
   "outputs": [
    {
     "ename": "UndefVarError",
     "evalue": "UndefVarError: Interpolate not defined",
     "output_type": "error",
     "traceback": [
      "UndefVarError: Interpolate not defined\n",
      "\n",
      "Stacktrace:\n",
      " [1] cubic_spline_interpolation(x::StepRangeLen{Float64, Base.TwicePrecision{Float64}, Base.TwicePrecision{Float64}, Int64}, y::Vector{Float64}, bc::String)\n",
      "   @ Main ~/Dokumenty/studia/MoWNiT/MOwNiT/lab3/sklejana.ipynb:12\n",
      " [2] top-level scope\n",
      "   @ ~/Dokumenty/studia/MoWNiT/MOwNiT/lab3/sklejana.ipynb:42"
     ]
    }
   ],
   "source": [
    "using Interpolations\n",
    "using LinearAlgebra\n",
    "\n",
    "# przykładowa funkcja\n",
    "f(x) = x^2 * sin(x)\n",
    "\n",
    "# interpolacja sklejana trzeciego stopnia\n",
    "function cubic_spline_interpolation(x, y, bc)\n",
    "    n = length(x)\n",
    "    knots = [x[i] for i in 1:n]\n",
    "    if bc == \"natural\"\n",
    "        bctype = Line(OnCell(), Interpolate(Flat()))\n",
    "    elseif bc == \"clamped\"\n",
    "        bctype = Line(OnCell(), Interpolate((FirstDerivative(y[1]), FirstDerivative(y[n]))))\n",
    "    else\n",
    "        error(\"Unknown boundary condition\")\n",
    "    end\n",
    "    itp = CubicSplineInterpolation(knots, y, extrapolation_bc=bctype)\n",
    "    return itp\n",
    "end\n",
    "\n",
    "# interpolacja sklejana drugiego stopnia\n",
    "function quadratic_spline_interpolation(x, y, bc)\n",
    "    n = length(x)\n",
    "    knots = [x[i] for i in 1:n]\n",
    "    if bc == \"natural\"\n",
    "        bctype = Line(OnCell(), Interpolate(Flat()))\n",
    "    elseif bc == \"clamped\"\n",
    "        bctype = Line(OnCell(), Interpolate((FirstDerivative(y[1]), FirstDerivative(y[n]))))\n",
    "    else\n",
    "        error(\"Unknown boundary condition\")\n",
    "    end\n",
    "    itp = SplineInterpolation(knots, y, extrapolation_bc=bctype)\n",
    "    return itp\n",
    "end\n",
    "\n",
    "# przykładowe dane\n",
    "x = range(0,stop=2π,length=10)\n",
    "y = f.(x)\n",
    "\n",
    "# przykładowe wywołania funkcji interpolujących\n",
    "itp_cubic_natural = cubic_spline_interpolation(x, y, \"natural\")\n",
    "itp_cubic_clamped = cubic_spline_interpolation(x, y, \"clamped\")\n",
    "itp_quadratic_natural = quadratic_spline_interpolation(x, y, \"natural\")\n",
    "itp_quadratic_clamped = quadratic_spline_interpolation(x, y, \"clamped\")\n",
    "\n",
    "# przykładowe wywołania interpolacji dla punktu x = 1.0\n",
    "println(\"f(1.0) = $(f(1.0))\")\n",
    "println(\"Cubic spline (natural): $(itp_cubic_natural(1.0))\")\n",
    "println(\"Cubic spline (clamped): $(itp_cubic_clamped(1.0))\")\n",
    "println(\"Quadratic spline (natural): $(itp_quadratic_natural(1.0))\")\n",
    "println(\"Quadratic spline (clamped): $(itp_quadratic_clamped(1.0))\")"
   ]
  }
 ],
 "metadata": {
  "kernelspec": {
   "display_name": "Julia 1.8.5",
   "language": "julia",
   "name": "julia-1.8"
  },
  "language_info": {
   "file_extension": ".jl",
   "mimetype": "application/julia",
   "name": "julia",
   "version": "1.8.5"
  },
  "orig_nbformat": 4
 },
 "nbformat": 4,
 "nbformat_minor": 2
}
