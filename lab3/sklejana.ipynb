{
 "cells": [
  {
   "cell_type": "code",
   "execution_count": 44,
   "metadata": {},
   "outputs": [
    {
     "data": {
      "text/plain": [
       "find (generic function with 1 method)"
      ]
     },
     "metadata": {},
     "output_type": "display_data"
    }
   ],
   "source": [
    "using LinearAlgebra\n",
    "using Plots\n",
    "using PrettyTables\n",
    "\n",
    "#funkcje pomocnicze\n",
    "function  h(i, X)\n",
    "    return X[i+1] - X[i]\n",
    "end\n",
    "\n",
    "function Δ(i, X, Y)\n",
    "    return  (Y[i+1] - Y[i]) / h(i, X)\n",
    "end\n",
    "\n",
    "function find(x, X)\n",
    "    if x < X[1]\n",
    "        return 1\n",
    "    end\n",
    "    for (i, xᵢ) in enumerate(X)\n",
    "        if x < xᵢ\n",
    "            return i-1\n",
    "        end\n",
    "    end\n",
    "    if x >= X[end]\n",
    "        return length(X)-1\n",
    "    end\n",
    "end\n"
   ]
  },
  {
   "attachments": {},
   "cell_type": "markdown",
   "metadata": {},
   "source": [
    "## Funkcja przydzielona na zajęciach"
   ]
  },
  {
   "cell_type": "code",
   "execution_count": 3,
   "metadata": {},
   "outputs": [
    {
     "data": {
      "text/plain": [
       "-12.566370614359172:0.01:9.42362938564083"
      ]
     },
     "metadata": {},
     "output_type": "display_data"
    }
   ],
   "source": [
    "k = 4\n",
    "m = 1\n",
    "A = -4*pi\n",
    "B = 3*pi\n",
    "my_func = (x) -> exp(-k*sin(m*x)) + k*sin(m*x) - 1\n",
    "# my_derivate = (x) -> (exp(-k*sin(m*x))*(-k*m*cos(m*x)) + k*m*cos(m*x))\n",
    "xs = -4*pi:0.01:3*pi\n",
    "\n",
    "# plot(xs, my_func)\n",
    "# savefig(\"plots/givenFunc\")\n",
    "# plot!(xs, my_derivate, lc=\"green\")"
   ]
  },
  {
   "attachments": {},
   "cell_type": "markdown",
   "metadata": {},
   "source": [
    "## Funkcja sklejana 3-go stopnia"
   ]
  },
  {
   "cell_type": "code",
   "execution_count": 12,
   "metadata": {},
   "outputs": [
    {
     "data": {
      "text/plain": [
       "lecture_boundary (generic function with 1 method)"
      ]
     },
     "metadata": {},
     "output_type": "display_data"
    }
   ],
   "source": [
    "# funkcje wypełniające brzegi w zalerzności od warunku brzegowego:\n",
    "\n",
    "function clamped_boundary(A, b, x, y)\n",
    "    n = length(x)\n",
    "    h1 = h(1, x)\n",
    "    hn = h(n-1, x)\n",
    "    Δ1 = Δ(1, x, y)\n",
    "    Δn = Δ(n-1, x, y)\n",
    "\n",
    "    A[1,1] = 2*h1\n",
    "    A[1,2] = h1\n",
    "    b[1] = 3*(Δ1 - 2*h1*y[1])\n",
    "\n",
    "    A[n,n-1] = hn\n",
    "    A[n,n] = 2*hn\n",
    "    b[n] = 3*(2*hn*y[n] - Δn)\n",
    "end\n",
    "\n",
    "function not_a_knot_boundary(A, b, x, y)\n",
    "    n = length(x)\n",
    "    h1 = h(1, x)\n",
    "    h2 = h(2, x)\n",
    "    hn1 = h(n-2, x)\n",
    "    hn = h(n-1, x)\n",
    "    Δ1 = Δ(1, x, y)\n",
    "    Δ2 = Δ(2, x, y)\n",
    "    Δn1 = Δ(n-2, x, y)\n",
    "    Δn = Δ(n-1, x, y)\n",
    "\n",
    "    A[1,1] = (h2 + h1)*hn^2\n",
    "    A[1,2] = h1*h2*hn + h1^2*hn + h2^2*hn\n",
    "    A[1,3] = -h1^2*hn\n",
    "    b[1] = 3*((Δ2 - Δ1)*hn^2 - Δ1*h1^2 - Δ2*h2^2)\n",
    "\n",
    "    A[n,n-2] = -hn1^2\n",
    "    A[n,n-1] = h2*h1*hn1 + h2^2*hn1 + h1^2*hn1\n",
    "    A[n,n] = (h2 + hn1)*h1^2\n",
    "    b[n] = 3*((Δn1 - Δn)*h1^2 - Δn*hn1^2 - Δn1*h2^2)\n",
    "end\n",
    "\n",
    "function free_boundary(A, b, x, y)\n",
    "    n = length(x)\n",
    "    A[1,1] = 1.0\n",
    "    b[1] = 0.0\n",
    "\n",
    "    A[n,n] = 1.0\n",
    "    b[n] = 0\n",
    "end\n",
    "\n",
    "function lecture_boundary(A, b, x, y)\n",
    "    n = length(x)\n",
    "    A[1,1] = -h(1,x)\n",
    "    A[1,2] = -h(1,x)\n",
    "    b[1] = h(1,x)^2 * Δ(1,x,y)^3\n",
    "\n",
    "    A[n,n] = -h(n-1,x)\n",
    "    A[n,n-1] = h(n-1,x)\n",
    "    b[n] = h(n-1,x)^2 * Δ(n-3,x,y)^3\n",
    "end"
   ]
  },
  {
   "cell_type": "code",
   "execution_count": 15,
   "metadata": {},
   "outputs": [
    {
     "ename": "UndefVarError",
     "evalue": "UndefVarError: h not defined",
     "output_type": "error",
     "traceback": [
      "UndefVarError: h not defined\n",
      "\n",
      "Stacktrace:\n",
      " [1] cubic_spline_interpolation_2(x::UnitRange{Int64}, y::Vector{Int64}, fill_edges_func::typeof(free_boundary))\n",
      "   @ Main ~/Dokumenty/studia/MoWNiT/MOwNiT/lab3/sklejana.ipynb:12\n",
      " [2] top-level scope\n",
      "   @ ~/Dokumenty/studia/MoWNiT/MOwNiT/lab3/sklejana.ipynb:46"
     ]
    }
   ],
   "source": [
    "using Interpolations\n",
    "# funkja zwracająca funkcje sklejaną fill_edges_func wypełnia pierwszy i ostatni wiersz macierzy A oraz wektora b\n",
    "function cubic_spline_interpolation_2(x::AbstractVector, y::AbstractVector, fill_edges_func=free_boundary)\n",
    "    n = length(x)\n",
    "\n",
    "    A = zeros(n,n)\n",
    "    b = zeros(n)\n",
    "    \n",
    "    fill_edges_func(A,b,x,y)\n",
    "    \n",
    "    for i in 2:n-1\n",
    "        hip = h(i-1, x)\n",
    "        hi = h(i, x)\n",
    "        Δip = Δ(i-1, x, y)\n",
    "        Δi = Δ(i, x, y)\n",
    "        A[i,i-1] = hip\n",
    "        A[i,i] = 2*(hi + hip)\n",
    "        A[i,i+1] = hi\n",
    "        b[i] = 3*(Δi - Δip)\n",
    "    end\n",
    "    \n",
    "    σ = A\\b\n",
    "\n",
    "    # println(\"s1(x1)=$(s(1,x[1],x,y,σ)), s1(x2)=$(s(1,x[2],x,y,σ))\")\n",
    "    f = (xx) -> begin\n",
    "        if xx < x[1] || xx > x[end]\n",
    "            error(\"xx out of range\")\n",
    "        end\n",
    "        \n",
    "        i = find(xx,x)\n",
    "        hi = h(i, x)\n",
    "        bi = ((y[i+1] - y[i])/hi) - (hi*(σ[i+1] + 2σ[i]))\n",
    "        ci = 3σ[i]\n",
    "        di = (σ[i+1] - σ[i])/hi\n",
    "        return y[i] + bi*(xx - x[i]) + ci*(xx - x[i])^2 + di*(xx - x[i])^3\n",
    "    end\n",
    "    itp_cubic = Interpolation.cubic_spline_interpolation(x,y)\n",
    "    f(x) = itp_cubic(x)\n",
    "    return f\n",
    "end\n",
    "\n",
    "x = 1:4\n",
    "y = map((x)->x^2, x)\n",
    "cubic_spline_interpolation(x, y)\n",
    "\n",
    "p = cubic_spline_interpolation_2(x, y, free_boundary)\n",
    "p(1.), p(1.5), p(2.)"
   ]
  },
  {
   "cell_type": "code",
   "execution_count": 10,
   "metadata": {},
   "outputs": [
    {
     "ename": "BoundsError",
     "evalue": "BoundsError: attempt to access 10-element extrapolate(scale(interpolate(OffsetArray(::Vector{Float64}, 0:11), BSpline(Cubic(Line(OnGrid())))), (0:9,)), Throw()) with element type Float64 at index [10]",
     "output_type": "error",
     "traceback": [
      "BoundsError: attempt to access 10-element extrapolate(scale(interpolate(OffsetArray(::Vector{Float64}, 0:11), BSpline(Cubic(Line(OnGrid())))), (0:9,)), Throw()) with element type Float64 at index [10]\n",
      "\n",
      "Stacktrace:\n",
      " [1] throw_boundserror(A::Interpolations.Extrapolation{Float64, 1, ScaledInterpolation{Float64, 1, Interpolations.BSplineInterpolation{Float64, 1, OffsetArrays.OffsetVector{Float64, Vector{Float64}}, BSpline{Cubic{Line{OnGrid}}}, Tuple{Base.OneTo{Int64}}}, BSpline{Cubic{Line{OnGrid}}}, Tuple{UnitRange{Int64}}}, BSpline{Cubic{Line{OnGrid}}}, Throw{Nothing}}, I::Tuple{Int64})\n",
      "   @ Base ./abstractarray.jl:703\n",
      " [2] inbounds_index\n",
      "   @ ~/.julia/packages/Interpolations/nDwIa/src/extrapolation/extrapolation.jl:111 [inlined]\n",
      " [3] inbounds_position\n",
      "   @ ~/.julia/packages/Interpolations/nDwIa/src/extrapolation/extrapolation.jl:102 [inlined]\n",
      " [4] (::Interpolations.Extrapolation{Float64, 1, ScaledInterpolation{Float64, 1, Interpolations.BSplineInterpolation{Float64, 1, OffsetArrays.OffsetVector{Float64, Vector{Float64}}, BSpline{Cubic{Line{OnGrid}}}, Tuple{Base.OneTo{Int64}}}, BSpline{Cubic{Line{OnGrid}}}, Tuple{UnitRange{Int64}}}, BSpline{Cubic{Line{OnGrid}}}, Throw{Nothing}})(x::Int64)\n",
      "   @ Interpolations ~/.julia/packages/Interpolations/nDwIa/src/extrapolation/extrapolation.jl:48\n",
      " [5] top-level scope\n",
      "   @ ~/Dokumenty/studia/MoWNiT/MOwNiT/lab3/sklejana.ipynb:8"
     ]
    }
   ],
   "source": [
    "\n",
    "using Interpolations\n",
    "\n",
    "x = 0:9\n",
    "y = map((x)->x^2, 0:9)\n",
    "f = cubic_spline_interpolation(x, y)\n",
    "\n",
    "f(10)"
   ]
  },
  {
   "attachments": {},
   "cell_type": "markdown",
   "metadata": {},
   "source": [
    "### Rysowanie wykresów"
   ]
  },
  {
   "cell_type": "code",
   "execution_count": 56,
   "metadata": {},
   "outputs": [
    {
     "data": {
      "text/plain": [
       "get_czebyshew_and_spline (generic function with 3 methods)"
      ]
     },
     "metadata": {},
     "output_type": "display_data"
    }
   ],
   "source": [
    "function drawInterpolation(X, func, interpolationFunc, title=\"\" , accuracy=10e-4)\n",
    "    minVal, maxVal = extrema(X)\n",
    "    len = maxVal - minVal\n",
    "    x = minVal:(len)*accuracy:maxVal\n",
    "    plot(x, func, label=\"f(x)\", width=1.5)\n",
    "    plot!(x, interpolationFunc, label=\"interpolacja\")\n",
    "    plot!(X, map(func, X), seriestype=:scatter, label=\"węzły\")\n",
    "    title!(title)\n",
    "end\n",
    "\n",
    "function get_nodes_and_spline(A, B, f, n, spline_func=cubic_spline_interpolation, boundary_func=free_boundary)\n",
    "    x = collect(range(A, B, length=n+1))\n",
    "    y = f.(x)\n",
    "    return x, spline_func(x,y,boundary_func)\n",
    "end\n",
    "\n",
    "function get_czebyshew_and_spline(A, B, f, n, spline_func=cubic_spline_interpolation, boundary_func=free_boundary)\n",
    "    x = collect(map((k)-> (B-A)/2*cos(((2*k-1)/2n*pi)) + (A + B)/2, 1:n))\n",
    "    sort!(x)\n",
    "    y = f.(x)\n",
    "    return x, spline_func(x,y,boundary_func)\n",
    "end"
   ]
  },
  {
   "cell_type": "code",
   "execution_count": 73,
   "metadata": {},
   "outputs": [
    {
     "ename": "MethodError",
     "evalue": "MethodError: no method matching cubic_spline_interpolation(::Vector{Float64}, ::Vector{Float64})\nClosest candidates are:\n  cubic_spline_interpolation(!Matched::AbstractRange, ::AbstractVector; bc, extrapolation_bc) at ~/.julia/packages/Interpolations/nDwIa/src/convenience-constructors.jl:12\n  cubic_spline_interpolation(!Matched::Tuple{Vararg{AbstractRange, N}}, ::AbstractArray{T, N}; bc, extrapolation_bc) where {N, T} at ~/.julia/packages/Interpolations/nDwIa/src/convenience-constructors.jl:29",
     "output_type": "error",
     "traceback": [
      "MethodError: no method matching cubic_spline_interpolation(::Vector{Float64}, ::Vector{Float64})\n",
      "Closest candidates are:\n",
      "  cubic_spline_interpolation(!Matched::AbstractRange, ::AbstractVector; bc, extrapolation_bc) at ~/.julia/packages/Interpolations/nDwIa/src/convenience-constructors.jl:12\n",
      "  cubic_spline_interpolation(!Matched::Tuple{Vararg{AbstractRange, N}}, ::AbstractArray{T, N}; bc, extrapolation_bc) where {N, T} at ~/.julia/packages/Interpolations/nDwIa/src/convenience-constructors.jl:29\n",
      "\n",
      "Stacktrace:\n",
      " [1] cubic_spline_interpolation_2(x::Vector{Float64}, y::Vector{Float64}, fill_edges_func::typeof(free_boundary))\n",
      "   @ Main ~/Dokumenty/studia/MoWNiT/MOwNiT/lab3/sklejana.ipynb:37\n",
      " [2] get_nodes_and_spline(A::Float64, B::Float64, f::Function, n::Int64, spline_func::typeof(cubic_spline_interpolation_2), boundary_func::Function)\n",
      "   @ Main ~/Dokumenty/studia/MoWNiT/MOwNiT/lab3/sklejana.ipynb:14\n",
      " [3] top-level scope\n",
      "   @ ~/Dokumenty/studia/MoWNiT/MOwNiT/lab3/sklejana.ipynb:6"
     ]
    }
   ],
   "source": [
    "f = my_func\n",
    "n = 15\n",
    "# X, intF = get_czebyshew_and_spline(A, B, f, n, cubic_spline_interpolation, clamped_boundary) \n",
    "# X, intF = get_czebyshew_and_spline(A, B, f, n, cubic_spline_interpolation, free_boundary) \n",
    "# X, intF = get_czebyshew_and_spline(A, B, f, n, cubic_spline_interpolation, not_a_knot_boundary) \n",
    "X, intF = get_nodes_and_spline(A, B, f, n, cubic_spline_interpolation_2, free_boundary) \n",
    "drawInterpolation(X, f, intF, \"Funkcja sklejana 3-go stopnia\")\n",
    "# savefig(\"plots/SpliBonClamp\")"
   ]
  },
  {
   "attachments": {},
   "cell_type": "markdown",
   "metadata": {},
   "source": [
    "## Funkcja sklejana 2-go stopnia"
   ]
  },
  {
   "cell_type": "code",
   "execution_count": 41,
   "metadata": {},
   "outputs": [
    {
     "ename": "UndefVarError",
     "evalue": "UndefVarError: h not defined",
     "output_type": "error",
     "traceback": [
      "UndefVarError: h not defined\n",
      "\n",
      "Stacktrace:\n",
      " [1] quadratic_spline_interpolation(x::Vector{Int64}, y::Vector{Int64}, fill_edges_func::typeof(free_boundary))\n",
      "   @ Main ~/Dokumenty/studia/MoWNiT/MOwNiT/lab3/sklejana.ipynb:11\n",
      " [2] top-level scope\n",
      "   @ ~/Dokumenty/studia/MoWNiT/MOwNiT/lab3/sklejana.ipynb:36"
     ]
    }
   ],
   "source": [
    "\n",
    "function quadratic_spline_interpolation(x, y, fill_edges_func=free_boundary)\n",
    "    n = length(x)\n",
    "\n",
    "    A = zeros(n,n)\n",
    "    b = zeros(n)\n",
    "\n",
    "    fill_edges_func(A, b, x, y)\n",
    "\n",
    "    for i in 2:n-1\n",
    "        h₁ = h(i-1, x)\n",
    "        h₂ = h(i, x)\n",
    "        A[i,i-1] = h₁\n",
    "        A[i,i] = 2*(h₁ + h₂)\n",
    "        A[i,i+1] = h₂\n",
    "        b[i] = 3*((y[i+1] - y[i])/h₂ - (y[i] - y[i-1])/h₁)\n",
    "    end\n",
    "\n",
    "    σ = A \\ b\n",
    "    function f(xx)\n",
    "        if xx < x[1] || xx > x[end]\n",
    "            error(\"xx out of range\")\n",
    "        end\n",
    "        i = find(xx,x)\n",
    "        hi = h(i, x)\n",
    "        bi = (y[i+1] - y[i])/hi - hi/2 * σ[i+1] - hi/2 * σ[i]\n",
    "        ci = 1/(2*hi) * (y[i+1] - y[i] - hi * (σ[i+1] - σ[i]))\n",
    "        return y[i] + bi * (xx - x[i]) + ci * (xx - x[i])^2\n",
    "    end\n",
    "    return f\n",
    "end\n",
    "\n",
    "x = [0, 1, 2, 3, 4]\n",
    "y = [1, 3, 2, 4, 1]\n",
    "\n",
    "p = quadratic_spline_interpolation(x, y, free_boundary)\n",
    "p(1.), p(1.5), p(2.)"
   ]
  },
  {
   "cell_type": "code",
   "execution_count": null,
   "metadata": {},
   "outputs": [],
   "source": [
    "# funkcje pomocnicze\n",
    "\n",
    "function  h(i, X)\n",
    "    return X[i+1] - X[i]\n",
    "end\n",
    "\n",
    "function Δ(i, X, Y)\n",
    "    return  (Y[i+1] - Y[i]) / h(i, X)\n",
    "end\n",
    "\n",
    "function find(x, X)\n",
    "    if x < X[1]\n",
    "        return 1\n",
    "    end\n",
    "    for i in 1:length(X)-1\n",
    "        if x < X[i+1]\n",
    "            return i\n",
    "        end\n",
    "    end\n",
    "    return length(X)-1\n",
    "end\n",
    "\n",
    "function free_boundary(A, b, x, y)\n",
    "    n = length(x)\n",
    "    A[1,1] = 1.0\n",
    "    b[1] = 0.0\n",
    "\n",
    "    A[n,n] = 1.0\n",
    "    b[n] = 0\n",
    "end\n",
    "\n",
    "function quadratic_spline_interpolation(x, y, fill_edges_func=free_boundary)\n",
    "    n = length(x)\n",
    "\n",
    "    A = zeros(n,n)\n",
    "    b = zeros(n)\n",
    "\n",
    "    fill_edges_func(A, b, x, y)\n",
    "\n",
    "    for i in 2:n-1\n",
    "        h₁ = h(i-1, x)\n",
    "        h₂ = h(i, x)\n",
    "        A[i,i-1] = h₁\n",
    "        A[i,i] = 2*(h₁ + h₂)\n",
    "        A[i,i+1] = h₂\n",
    "        b[i] = 3*((y[i+1] - y[i])/h₂ - (y[i] - y[i-1])/h₁)\n",
    "    end\n",
    "\n",
    "    σ = A \\ b\n",
    "\n",
    "    function f(xx)\n",
    "        if xx < x[1] || xx > x[end]\n",
    "            error(\"xx out of range\")\n",
    "        end\n",
    "        i = find(xx,x)\n",
    "        hi = h(i, x)\n",
    "        bi = (y[i+1] - y[i])/hi - (hi/2) * (σ[i+1] + 2σ[i])\n",
    "        ci = (σ[i+1] - σ[i]) / (6hi)\n",
    "        return y[i] + bi * (xx - x[i]) + ci * (xx - x[i])^2\n",
    "    end\n",
    "\n",
    "    return f\n",
    "end\n",
    "\n",
    "x = [0, 1, 2, 3, 4]\n",
    "y = [1, 3, 2, 4, 1]\n",
    "\n",
    "p = quadratic_spline_interpolation(x, y, free_boundary)\n",
    "p(1.), p(1.5), p(2.)"
   ]
  },
  {
   "cell_type": "code",
   "execution_count": null,
   "metadata": {},
   "outputs": [],
   "source": [
    "f = my_func\n",
    "n = 5\n",
    "X, intF = get_nodes_and_spline(A, B, f, n, quadratic_spline_interpolation, free_boundary) \n",
    "drawInterpolation(X, f, intF, \"Funkcja sklejana 2-go stopnia\")\n",
    "# savefig(\"plots/ROn$n\")"
   ]
  },
  {
   "cell_type": "markdown",
   "metadata": {},
   "source": [
    "## spline interpolation"
   ]
  },
  {
   "cell_type": "code",
   "execution_count": 37,
   "metadata": {},
   "outputs": [
    {
     "ename": "BoundsError",
     "evalue": "BoundsError: attempt to access 25-element interpolate(OffsetArray(::Vector{Float64}, 0:26), BSpline(Quadratic(Flat(OnGrid())))) with element type Float64 at index [-12.566370614359172]",
     "output_type": "error",
     "traceback": [
      "BoundsError: attempt to access 25-element interpolate(OffsetArray(::Vector{Float64}, 0:26), BSpline(Quadratic(Flat(OnGrid())))) with element type Float64 at index [-12.566370614359172]\n",
      "\n",
      "Stacktrace:\n",
      "  [1] throw_boundserror(A::Interpolations.BSplineInterpolation{Float64, 1, OffsetArrays.OffsetVector{Float64, Vector{Float64}}, BSpline{Quadratic{Flat{OnGrid}}}, Tuple{Base.OneTo{Int64}}}, I::Tuple{Float64})\n",
      "    @ Base ./abstractarray.jl:703\n",
      "  [2] (::Interpolations.BSplineInterpolation{Float64, 1, OffsetArrays.OffsetVector{Float64, Vector{Float64}}, BSpline{Quadratic{Flat{OnGrid}}}, Tuple{Base.OneTo{Int64}}})(x::Float64)\n",
      "    @ Interpolations ~/.julia/packages/Interpolations/nDwIa/src/b-splines/indexing.jl:6\n",
      "  [3] f_quadratic(x::Float64)\n",
      "    @ Main ~/Dokumenty/studia/MoWNiT/MOwNiT/lab3/sklejana.ipynb:17\n",
      "  [4] iterate\n",
      "    @ ./generator.jl:47 [inlined]\n",
      "  [5] _collect(c::StepRangeLen{Float64, Base.TwicePrecision{Float64}, Base.TwicePrecision{Float64}, Int64}, itr::Base.Generator{StepRangeLen{Float64, Base.TwicePrecision{Float64}, Base.TwicePrecision{Float64}, Int64}, typeof(f_quadratic)}, #unused#::Base.EltypeUnknown, isz::Base.HasShape{1})\n",
      "    @ Base ./array.jl:807\n",
      "  [6] collect_similar(cont::StepRangeLen{Float64, Base.TwicePrecision{Float64}, Base.TwicePrecision{Float64}, Int64}, itr::Base.Generator{StepRangeLen{Float64, Base.TwicePrecision{Float64}, Base.TwicePrecision{Float64}, Int64}, typeof(f_quadratic)})\n",
      "    @ Base ./array.jl:716\n",
      "  [7] map(f::Function, A::StepRangeLen{Float64, Base.TwicePrecision{Float64}, Base.TwicePrecision{Float64}, Int64})\n",
      "    @ Base ./abstractarray.jl:2933\n",
      "  [8] _compute_y\n",
      "    @ ~/.julia/packages/RecipesPipeline/BGM3l/src/series.jl:72 [inlined]\n",
      "  [9] _compute_xyz(x::StepRangeLen{Float64, Base.TwicePrecision{Float64}, Base.TwicePrecision{Float64}, Int64}, y::Function, z::Nothing, nice_error::Bool)\n",
      "    @ RecipesPipeline ~/.julia/packages/RecipesPipeline/BGM3l/src/series.jl:86\n",
      " [10] macro expansion\n",
      "    @ ~/.julia/packages/RecipesPipeline/BGM3l/src/series.jl:140 [inlined]\n",
      " [11] apply_recipe(plotattributes::AbstractDict{Symbol, Any}, #unused#::Type{RecipesPipeline.SliceIt}, x::Any, y::Any, z::Any)\n",
      "    @ RecipesPipeline ~/.julia/packages/RecipesBase/BRe07/src/RecipesBase.jl:300\n",
      " [12] _process_userrecipes!(plt::Any, plotattributes::Any, args::Any)\n",
      "    @ RecipesPipeline ~/.julia/packages/RecipesPipeline/BGM3l/src/user_recipe.jl:38\n",
      " [13] recipe_pipeline!(plt::Any, plotattributes::Any, args::Any)\n",
      "    @ RecipesPipeline ~/.julia/packages/RecipesPipeline/BGM3l/src/RecipesPipeline.jl:72\n",
      " [14] _plot!(plt::Plots.Plot, plotattributes::Any, args::Any)\n",
      "    @ Plots ~/.julia/packages/Plots/esM5q/src/plot.jl:223\n",
      " [15] #plot!#197\n",
      "    @ ~/.julia/packages/Plots/esM5q/src/plot.jl:213 [inlined]\n",
      " [16] plot!(::Any, ::Vararg{Any}; kw::Base.Pairs{Symbol, V, Tuple{Vararg{Symbol, N}}, NamedTuple{names, T}} where {V, N, names, T<:Tuple{Vararg{Any, N}}})\n",
      "    @ Plots ~/.julia/packages/Plots/esM5q/src/plot.jl:202\n",
      " [17] top-level scope\n",
      "    @ ~/Dokumenty/studia/MoWNiT/MOwNiT/lab3/sklejana.ipynb:25"
     ]
    }
   ],
   "source": [
    "using Interpolations, Plots\n",
    "\n",
    "# Lower and higher bound of interval\n",
    "a = A\n",
    "b = B\n",
    "# Interval definition\n",
    "x = range(a-0.5, b+0.5, length=25)\n",
    "# This can be any sort of array data, as long as\n",
    "# length(x) == length(y)\n",
    "y = @. my_func(x) # Function application by broadcasting\n",
    "# Interpolations\n",
    "itp_cubic = cubic_spline_interpolation(x,y)\n",
    "itp_quadratic = interpolate(y, BSpline(Quadratic(Flat(OnGrid()))))\n",
    "\n",
    "# Interpolation functions\n",
    "f_cubic(x) = itp_cubic(x)\n",
    "f_quadratic(x) = itp_quadratic(x)\n",
    "# # Plots\n",
    "# width, height = 1500, 800 # not strictly necessary\n",
    "x_new = a:0.1:b # smoother interval, necessary for cubic spline\n",
    "\n",
    "scatter(x, y, markersize=3,label=\"Data points\")\n",
    "plot!(my_func, x_new,label=\"my_func\")\n",
    "plot!(f_cubic, x_new, linestyle=:dash, label=\"Cubic Spline interpolation\")\n",
    "plot!(f_quadratic, x_new, linestyle=:dot, w=3, label=\"Quadratic B-spline interpolation\")\n",
    "# plot!(size = (width, height))\n",
    "# plot!(legend = :bottomleft)"
   ]
  },
  {
   "cell_type": "code",
   "execution_count": 42,
   "metadata": {},
   "outputs": [
    {
     "name": "stdout",
     "output_type": "stream",
     "text": [
      "typeof(f_cubic)"
     ]
    },
    {
     "data": {
      "text/plain": [
       "\"/home/ciastek/Dokumenty/studia/MoWNiT/MOwNiT/lab3/plots/Spli16.png\""
      ]
     },
     "metadata": {},
     "output_type": "display_data"
    }
   ],
   "source": [
    "\n",
    "using Interpolations, Plots\n",
    "\n",
    "# Lower and higher bound of interval\n",
    "a = A\n",
    "b = B\n",
    "# Interval definition\n",
    "x = range(a, b, length=16)\n",
    "# This can be any sort of array data, as long as\n",
    "# length(x) == length(y)\n",
    "y = @. my_func(x) # Function application by broadcasting\n",
    "\n",
    "# Interpolations\n",
    "itp_linear = linear_interpolation(x, y)\n",
    "itp_cubic = cubic_spline_interpolation(x,y, bc = Free(OnGrid()))\n",
    "# itp_quadratic = quadratic_interpolation(x, y)\n",
    "\n",
    "# if a <= -1 && b >= 1\n",
    "#     itp_quadratic = interpolate(y, BSpline(Quadratic(Flat(OnGrid()))))\n",
    "# else\n",
    "#     itp_quadratic = quadratic_interpolation(x, y)\n",
    "# end\n",
    "\n",
    "# Interpolation functions\n",
    "f_linear(x) = itp_linear(x)\n",
    "f_cubic(x) = itp_cubic(x)\n",
    "# f_quadratic(x) = itp_quadratic(x)\n",
    "# Plots\n",
    "print(typeof(f_cubic))\n",
    "width, height = 1500, 800 # not strictly necessary\n",
    "x_new = a:0.1:b # smoother interval, necessary for cubic spline\n",
    "\n",
    "plot(my_func, x_new, label=\"funkcja pierwotna\")\n",
    "plot!(f_cubic, x_new, linestyle=:dash, label=\"interpolacja\")\n",
    "scatter!(x, y,label=\"punkty\")\n",
    "# plot!(f_quadratic, x_new, linestyle=:dot, w=3, label=\"Quadratic interpolation\")\n",
    "# plot!(size = (width, height))\n",
    "plot!(legend = :bottomleft)\n",
    "savefig(\"plots/Spli16\")"
   ]
  }
 ],
 "metadata": {
  "kernelspec": {
   "display_name": "Julia 1.8.5",
   "language": "julia",
   "name": "julia-1.8"
  },
  "language_info": {
   "file_extension": ".jl",
   "mimetype": "application/julia",
   "name": "julia",
   "version": "1.8.5"
  },
  "orig_nbformat": 4
 },
 "nbformat": 4,
 "nbformat_minor": 2
}
